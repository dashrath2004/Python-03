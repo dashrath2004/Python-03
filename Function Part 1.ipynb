{
 "cells": [
  {
   "cell_type": "code",
   "execution_count": 1,
   "id": "b0c2d819-e2ba-4337-b9f3-080858110757",
   "metadata": {},
   "outputs": [
    {
     "name": "stdout",
     "output_type": "stream",
     "text": [
      "this is week 03 classes\n"
     ]
    }
   ],
   "source": [
    "print('this is week 03 classes')"
   ]
  },
  {
   "cell_type": "code",
   "execution_count": 2,
   "id": "e6f54ccd-601e-42a7-a903-86317fc8ac03",
   "metadata": {},
   "outputs": [],
   "source": [
    "l = [2,3,4,'sonu' , True , 30.22]"
   ]
  },
  {
   "cell_type": "code",
   "execution_count": 3,
   "id": "b1e93860-f562-4482-a4ab-3d7aab872ed7",
   "metadata": {},
   "outputs": [
    {
     "data": {
      "text/plain": [
       "list"
      ]
     },
     "execution_count": 3,
     "metadata": {},
     "output_type": "execute_result"
    }
   ],
   "source": [
    "type(l)"
   ]
  },
  {
   "cell_type": "code",
   "execution_count": 4,
   "id": "99127990-1f6d-4b8c-a400-c7f00484a46a",
   "metadata": {},
   "outputs": [
    {
     "data": {
      "text/plain": [
       "6"
      ]
     },
     "execution_count": 4,
     "metadata": {},
     "output_type": "execute_result"
    }
   ],
   "source": [
    "len(l)"
   ]
  },
  {
   "cell_type": "code",
   "execution_count": 5,
   "id": "7d0dfb31-1be3-4aa7-82d6-23fd61ef2f4a",
   "metadata": {},
   "outputs": [],
   "source": [
    "def test1() :\n",
    "    print(\"this is frist function class\")\n"
   ]
  },
  {
   "cell_type": "code",
   "execution_count": 6,
   "id": "245f0fb7-6602-42b8-845c-4939ac29d5b9",
   "metadata": {},
   "outputs": [
    {
     "name": "stdout",
     "output_type": "stream",
     "text": [
      "this is frist function class\n"
     ]
    }
   ],
   "source": [
    "test1()"
   ]
  },
  {
   "cell_type": "code",
   "execution_count": 7,
   "id": "f4d09889-49e0-41ff-9f2f-a765f56ba936",
   "metadata": {},
   "outputs": [],
   "source": [
    "def test2() :\n",
    "    return 'this is frist function class'"
   ]
  },
  {
   "cell_type": "code",
   "execution_count": 8,
   "id": "baca8e6c-b286-4c51-bcec-139fcf03251a",
   "metadata": {},
   "outputs": [
    {
     "data": {
      "text/plain": [
       "'this is frist function class'"
      ]
     },
     "execution_count": 8,
     "metadata": {},
     "output_type": "execute_result"
    }
   ],
   "source": [
    "test2()"
   ]
  },
  {
   "cell_type": "code",
   "execution_count": 15,
   "id": "ae29861e-1737-4032-a01b-075a246694d5",
   "metadata": {},
   "outputs": [
    {
     "data": {
      "text/plain": [
       "'this is frist function classsonu'"
      ]
     },
     "execution_count": 15,
     "metadata": {},
     "output_type": "execute_result"
    }
   ],
   "source": [
    "test2()+\"sonu\""
   ]
  },
  {
   "cell_type": "code",
   "execution_count": 17,
   "id": "af6ceff0-601e-44b0-a0a4-cd7562d9fb8e",
   "metadata": {},
   "outputs": [],
   "source": [
    "def test3() :\n",
    "    return 2,3,4,\"monu\" , [4,5,6,7]"
   ]
  },
  {
   "cell_type": "code",
   "execution_count": 18,
   "id": "c356e2c6-5e53-45ed-9ebf-98eb9b02174f",
   "metadata": {},
   "outputs": [
    {
     "data": {
      "text/plain": [
       "(2, 3, 4, 'monu', [4, 5, 6, 7])"
      ]
     },
     "execution_count": 18,
     "metadata": {},
     "output_type": "execute_result"
    }
   ],
   "source": [
    "test3()"
   ]
  },
  {
   "cell_type": "code",
   "execution_count": 21,
   "id": "84cb16ce-053a-4468-ad2c-c2f9500dce6d",
   "metadata": {},
   "outputs": [],
   "source": [
    "a,b,c,d,e = test3()"
   ]
  },
  {
   "cell_type": "code",
   "execution_count": 22,
   "id": "27e5a887-7673-4b7d-8f53-44c1a44d5ed8",
   "metadata": {},
   "outputs": [
    {
     "data": {
      "text/plain": [
       "2"
      ]
     },
     "execution_count": 22,
     "metadata": {},
     "output_type": "execute_result"
    }
   ],
   "source": [
    "a"
   ]
  },
  {
   "cell_type": "code",
   "execution_count": 23,
   "id": "1b064598-fd16-43f7-8d9b-ebfa96177f9a",
   "metadata": {},
   "outputs": [
    {
     "data": {
      "text/plain": [
       "'monu'"
      ]
     },
     "execution_count": 23,
     "metadata": {},
     "output_type": "execute_result"
    }
   ],
   "source": [
    "d"
   ]
  },
  {
   "cell_type": "code",
   "execution_count": 24,
   "id": "8dd812f1-dedb-4259-97d8-910589054b8e",
   "metadata": {},
   "outputs": [
    {
     "data": {
      "text/plain": [
       "[4, 5, 6, 7]"
      ]
     },
     "execution_count": 24,
     "metadata": {},
     "output_type": "execute_result"
    }
   ],
   "source": [
    "e"
   ]
  },
  {
   "cell_type": "code",
   "execution_count": 2,
   "id": "e5dd23b7-aff5-4088-943f-82bfa23e2c5f",
   "metadata": {},
   "outputs": [],
   "source": [
    "def test4() :\n",
    "    a = 6+6/3\n",
    "    return a"
   ]
  },
  {
   "cell_type": "code",
   "execution_count": 3,
   "id": "f97b0de6-5fd2-4046-8749-60ae86b886f1",
   "metadata": {},
   "outputs": [
    {
     "data": {
      "text/plain": [
       "8.0"
      ]
     },
     "execution_count": 3,
     "metadata": {},
     "output_type": "execute_result"
    }
   ],
   "source": [
    "test4()"
   ]
  },
  {
   "cell_type": "code",
   "execution_count": 4,
   "id": "a5eeae06-09df-4b11-bb02-b6a2a55f9ca6",
   "metadata": {},
   "outputs": [],
   "source": [
    "def test5(a,b,c) :\n",
    "    d = a+b/c\n",
    "    return d\n",
    "    "
   ]
  },
  {
   "cell_type": "code",
   "execution_count": 5,
   "id": "2c02fe28-aa7a-496b-a65f-e4f4155de69f",
   "metadata": {},
   "outputs": [
    {
     "ename": "TypeError",
     "evalue": "test5() missing 3 required positional arguments: 'a', 'b', and 'c'",
     "output_type": "error",
     "traceback": [
      "\u001b[0;31m---------------------------------------------------------------------------\u001b[0m",
      "\u001b[0;31mTypeError\u001b[0m                                 Traceback (most recent call last)",
      "Cell \u001b[0;32mIn[5], line 1\u001b[0m\n\u001b[0;32m----> 1\u001b[0m \u001b[43mtest5\u001b[49m\u001b[43m(\u001b[49m\u001b[43m)\u001b[49m\n",
      "\u001b[0;31mTypeError\u001b[0m: test5() missing 3 required positional arguments: 'a', 'b', and 'c'"
     ]
    }
   ],
   "source": [
    "test5()"
   ]
  },
  {
   "cell_type": "code",
   "execution_count": 6,
   "id": "c8b7fe26-cf4d-43fe-a269-4d816f9f2326",
   "metadata": {},
   "outputs": [
    {
     "data": {
      "text/plain": [
       "5.857142857142857"
      ]
     },
     "execution_count": 6,
     "metadata": {},
     "output_type": "execute_result"
    }
   ],
   "source": [
    "test5(5,6,7)"
   ]
  },
  {
   "cell_type": "code",
   "execution_count": 7,
   "id": "9d815f89-fdcf-4802-8d97-30023fa4daf7",
   "metadata": {},
   "outputs": [],
   "source": [
    "def test6(a,b) :\n",
    "    return a+b "
   ]
  },
  {
   "cell_type": "code",
   "execution_count": 9,
   "id": "e678e777-ceb3-4bc9-a8ec-4d26eba85a14",
   "metadata": {},
   "outputs": [
    {
     "data": {
      "text/plain": [
       "8"
      ]
     },
     "execution_count": 9,
     "metadata": {},
     "output_type": "execute_result"
    }
   ],
   "source": [
    "test6(4,4)"
   ]
  },
  {
   "cell_type": "code",
   "execution_count": 11,
   "id": "79371dd5-d4ed-4db4-a573-3e72741cf70a",
   "metadata": {},
   "outputs": [
    {
     "data": {
      "text/plain": [
       "'dashrath singh'"
      ]
     },
     "execution_count": 11,
     "metadata": {},
     "output_type": "execute_result"
    }
   ],
   "source": [
    "test6(\"dashrath\" , \" singh\")"
   ]
  },
  {
   "cell_type": "code",
   "execution_count": 12,
   "id": "717e04b0-7cb8-476a-9b4c-108292cb85ed",
   "metadata": {},
   "outputs": [],
   "source": [
    "l = [1,2,3,4,\"sudh\" , \"kumar\" ,[1,2,3,4,5,6]]"
   ]
  },
  {
   "cell_type": "code",
   "execution_count": 13,
   "id": "f8cf9d59-f147-4081-9ee1-377504401a2e",
   "metadata": {},
   "outputs": [],
   "source": [
    "l1 = []\n",
    "for i in l :\n",
    "    if type(i) == int or type(i) == float :\n",
    "        l1.append(i)"
   ]
  },
  {
   "cell_type": "code",
   "execution_count": 14,
   "id": "3f6bf4aa-5abb-4073-9f34-135d5d59c133",
   "metadata": {},
   "outputs": [
    {
     "data": {
      "text/plain": [
       "[1, 2, 3, 4]"
      ]
     },
     "execution_count": 14,
     "metadata": {},
     "output_type": "execute_result"
    }
   ],
   "source": [
    "l1"
   ]
  },
  {
   "cell_type": "code",
   "execution_count": 27,
   "id": "34b2197b-8cff-4b2b-adc7-6883f5dc1130",
   "metadata": {},
   "outputs": [],
   "source": [
    "def test7(l) :\n",
    "    l1 = []\n",
    "    for i in l :\n",
    "        if type(i) == int or type(i) == float : \n",
    "            l1.append(i) \n",
    "    return l1\n",
    "           "
   ]
  },
  {
   "cell_type": "code",
   "execution_count": 28,
   "id": "3d786cb9-6ff7-4317-9d75-d9b7de375471",
   "metadata": {},
   "outputs": [
    {
     "data": {
      "text/plain": [
       "[1, 2, 3, 4]"
      ]
     },
     "execution_count": 28,
     "metadata": {},
     "output_type": "execute_result"
    }
   ],
   "source": [
    "test7(l)"
   ]
  },
  {
   "cell_type": "code",
   "execution_count": 37,
   "id": "bb28bb09-5033-4b05-bd62-2ec92d470176",
   "metadata": {},
   "outputs": [],
   "source": [
    "def test8(a) : \n",
    "    l = []\n",
    "    for i in a : \n",
    "        if type(i) == list :\n",
    "            for j in i : \n",
    "                l.append(j)\n",
    "        else : \n",
    "             if type(i) == int or type(i) == float : \n",
    "                l.append(i)\n",
    "    return l"
   ]
  },
  {
   "cell_type": "code",
   "execution_count": 39,
   "id": "d5aec713-c2ff-4be6-ba02-9876ff4314ad",
   "metadata": {},
   "outputs": [
    {
     "data": {
      "text/plain": [
       "[1, 2, 3, 4, 1, 2, 3, 4, 5, 6]"
      ]
     },
     "execution_count": 39,
     "metadata": {},
     "output_type": "execute_result"
    }
   ],
   "source": [
    "test8(l)"
   ]
  },
  {
   "cell_type": "code",
   "execution_count": 40,
   "id": "27638536-0964-4f11-831c-cfbc3fe42898",
   "metadata": {},
   "outputs": [],
   "source": [
    "def test9(*args):\n",
    "    return args"
   ]
  },
  {
   "cell_type": "code",
   "execution_count": 41,
   "id": "f0d12734-ca8a-4173-bcf8-5c2f29390566",
   "metadata": {},
   "outputs": [
    {
     "data": {
      "text/plain": [
       "()"
      ]
     },
     "execution_count": 41,
     "metadata": {},
     "output_type": "execute_result"
    }
   ],
   "source": [
    "test9()"
   ]
  },
  {
   "cell_type": "code",
   "execution_count": 43,
   "id": "651ec02b-b4a9-4994-85da-5e8920009cf4",
   "metadata": {},
   "outputs": [
    {
     "data": {
      "text/plain": [
       "tuple"
      ]
     },
     "execution_count": 43,
     "metadata": {},
     "output_type": "execute_result"
    }
   ],
   "source": [
    "type(test9())"
   ]
  },
  {
   "cell_type": "code",
   "execution_count": 44,
   "id": "76f8d7f0-3acc-4310-a407-74f203561c37",
   "metadata": {},
   "outputs": [
    {
     "data": {
      "text/plain": [
       "(2, 3, 4, 5, 'monu', 'joni', [5, 6, 7, 8])"
      ]
     },
     "execution_count": 44,
     "metadata": {},
     "output_type": "execute_result"
    }
   ],
   "source": [
    "test9(2,3,4,5, \"monu\" , \"joni\" , [5,6,7,8,])"
   ]
  },
  {
   "cell_type": "code",
   "execution_count": 46,
   "id": "721fa4ad-d321-4c28-a62f-af33f04923d1",
   "metadata": {},
   "outputs": [],
   "source": [
    "def test10(*sudh):\n",
    "    return sudh"
   ]
  },
  {
   "cell_type": "code",
   "execution_count": 47,
   "id": "fd8db59f-a167-4d8f-ad39-b41fd4892b0a",
   "metadata": {},
   "outputs": [
    {
     "data": {
      "text/plain": [
       "(541, 55, 515.41, 'fj', [5, 58, 7])"
      ]
     },
     "execution_count": 47,
     "metadata": {},
     "output_type": "execute_result"
    }
   ],
   "source": [
    "test10(541,55,515.41,\"fj\" , [5,58,7,])"
   ]
  },
  {
   "cell_type": "code",
   "execution_count": 49,
   "id": "8d0b81c0-6c9a-4a98-aba5-c0d1b0077b0f",
   "metadata": {},
   "outputs": [],
   "source": [
    "def test11(*args , a) :\n",
    "    return args , a "
   ]
  },
  {
   "cell_type": "code",
   "execution_count": 50,
   "id": "32046817-69c1-4ed2-ba76-73b8844271f8",
   "metadata": {},
   "outputs": [
    {
     "ename": "TypeError",
     "evalue": "test11() missing 1 required keyword-only argument: 'a'",
     "output_type": "error",
     "traceback": [
      "\u001b[0;31m---------------------------------------------------------------------------\u001b[0m",
      "\u001b[0;31mTypeError\u001b[0m                                 Traceback (most recent call last)",
      "Cell \u001b[0;32mIn[50], line 1\u001b[0m\n\u001b[0;32m----> 1\u001b[0m \u001b[43mtest11\u001b[49m\u001b[43m(\u001b[49m\u001b[38;5;241;43m1\u001b[39;49m\u001b[43m,\u001b[49m\u001b[38;5;241;43m2\u001b[39;49m\u001b[43m,\u001b[49m\u001b[38;5;241;43m3\u001b[39;49m\u001b[43m,\u001b[49m\u001b[38;5;241;43m4\u001b[39;49m\u001b[43m)\u001b[49m\n",
      "\u001b[0;31mTypeError\u001b[0m: test11() missing 1 required keyword-only argument: 'a'"
     ]
    }
   ],
   "source": [
    "test11(1,2,3,4)"
   ]
  },
  {
   "cell_type": "code",
   "execution_count": 52,
   "id": "17a584e5-480e-41bc-9d88-97a690f7b3ac",
   "metadata": {},
   "outputs": [
    {
     "data": {
      "text/plain": [
       "((1, 2, 3, 4), 8)"
      ]
     },
     "execution_count": 52,
     "metadata": {},
     "output_type": "execute_result"
    }
   ],
   "source": [
    "test11(1,2,3,4, a = 8)"
   ]
  },
  {
   "cell_type": "code",
   "execution_count": 54,
   "id": "8fea4969-6b03-4c0a-b881-48e2c8789be5",
   "metadata": {},
   "outputs": [],
   "source": [
    "def test12(c,d,a = 23 , b = 1 ):\n",
    "    return a,b,c,d"
   ]
  },
  {
   "cell_type": "code",
   "execution_count": 56,
   "id": "003c3841-190b-4ead-9f40-534cb94793d8",
   "metadata": {},
   "outputs": [
    {
     "ename": "TypeError",
     "evalue": "test12() missing 2 required positional arguments: 'c' and 'd'",
     "output_type": "error",
     "traceback": [
      "\u001b[0;31m---------------------------------------------------------------------------\u001b[0m",
      "\u001b[0;31mTypeError\u001b[0m                                 Traceback (most recent call last)",
      "Cell \u001b[0;32mIn[56], line 1\u001b[0m\n\u001b[0;32m----> 1\u001b[0m \u001b[43mtest12\u001b[49m\u001b[43m(\u001b[49m\u001b[43m)\u001b[49m\n",
      "\u001b[0;31mTypeError\u001b[0m: test12() missing 2 required positional arguments: 'c' and 'd'"
     ]
    }
   ],
   "source": [
    "test12()"
   ]
  },
  {
   "cell_type": "code",
   "execution_count": 55,
   "id": "c91df9c6-304d-488e-a262-1ca0deae95d9",
   "metadata": {},
   "outputs": [
    {
     "data": {
      "text/plain": [
       "(23, 1, 4, 5)"
      ]
     },
     "execution_count": 55,
     "metadata": {},
     "output_type": "execute_result"
    }
   ],
   "source": [
    "test12(4,5)"
   ]
  },
  {
   "cell_type": "code",
   "execution_count": 57,
   "id": "ebcf49af-0e78-429d-a34f-23641f9a2b41",
   "metadata": {},
   "outputs": [
    {
     "data": {
      "text/plain": [
       "(454, 1, 4, 5)"
      ]
     },
     "execution_count": 57,
     "metadata": {},
     "output_type": "execute_result"
    }
   ],
   "source": [
    "test12(4,5, a = 454)"
   ]
  },
  {
   "cell_type": "code",
   "execution_count": 59,
   "id": "b304ef0f-3c0d-404e-a0b4-0b25243663f3",
   "metadata": {},
   "outputs": [],
   "source": [
    "def test13(**kwargs):\n",
    "    return kwargs"
   ]
  },
  {
   "cell_type": "code",
   "execution_count": 60,
   "id": "d2f4c0fa-364d-4582-ab15-5ad5e2dc38d7",
   "metadata": {},
   "outputs": [
    {
     "data": {
      "text/plain": [
       "{}"
      ]
     },
     "execution_count": 60,
     "metadata": {},
     "output_type": "execute_result"
    }
   ],
   "source": [
    "test13()"
   ]
  },
  {
   "cell_type": "code",
   "execution_count": 61,
   "id": "ba64a777-2e19-4fb1-8954-cf1a31e480fe",
   "metadata": {},
   "outputs": [
    {
     "data": {
      "text/plain": [
       "dict"
      ]
     },
     "execution_count": 61,
     "metadata": {},
     "output_type": "execute_result"
    }
   ],
   "source": [
    "type(test13())"
   ]
  },
  {
   "cell_type": "code",
   "execution_count": null,
   "id": "657c1bf8-0d55-4015-a0a7-03c986e87c84",
   "metadata": {},
   "outputs": [],
   "source": []
  }
 ],
 "metadata": {
  "kernelspec": {
   "display_name": "Python 3 (ipykernel)",
   "language": "python",
   "name": "python3"
  },
  "language_info": {
   "codemirror_mode": {
    "name": "ipython",
    "version": 3
   },
   "file_extension": ".py",
   "mimetype": "text/x-python",
   "name": "python",
   "nbconvert_exporter": "python",
   "pygments_lexer": "ipython3",
   "version": "3.10.8"
  }
 },
 "nbformat": 4,
 "nbformat_minor": 5
}

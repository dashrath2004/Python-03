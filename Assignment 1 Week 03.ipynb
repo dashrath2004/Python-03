{
 "cells": [
  {
   "cell_type": "markdown",
   "id": "1c36a018-e025-439b-9a75-1b954f2c988a",
   "metadata": {},
   "source": [
    "Q1. Which keyword is used to create a function? Create a function to return a list of odd numbers in the\n",
    "range of 1 to 25."
   ]
  },
  {
   "cell_type": "raw",
   "id": "6357a023-f59b-415f-b912-e33925a0016d",
   "metadata": {},
   "source": [
    "Def Test Keyword Is Used To Create A Function. "
   ]
  },
  {
   "cell_type": "code",
   "execution_count": 1,
   "id": "c9058063-e041-42b0-8a1b-b9a1cc9fea74",
   "metadata": {},
   "outputs": [],
   "source": [
    "l = [1,2,3,4,5,6,7,8,9,10,11,12,13,14,15,16,17,18,19,20,21,22,23,24,25]"
   ]
  },
  {
   "cell_type": "code",
   "execution_count": 2,
   "id": "a4884adc-8c8d-4355-82f5-1172edab871d",
   "metadata": {},
   "outputs": [
    {
     "data": {
      "text/plain": [
       "[1, 3, 5, 7, 9, 11, 13, 15, 17, 19, 21, 23, 25]"
      ]
     },
     "execution_count": 2,
     "metadata": {},
     "output_type": "execute_result"
    }
   ],
   "source": [
    "list(filter(lambda x : x % 2 != 0 , l))"
   ]
  },
  {
   "cell_type": "markdown",
   "id": "8dc88cba-c07a-4432-afe4-46c3a58bfaf0",
   "metadata": {},
   "source": [
    "Q2. Why *args and **kwargs is used in some functions? Create a function each for *args and **kwargs\n",
    "to demonstrate their use."
   ]
  },
  {
   "cell_type": "raw",
   "id": "5edb9475-fe79-4567-a04e-bc2708634b43",
   "metadata": {},
   "source": [
    "You can use *args and **kwargs as arguments of a function when you are unsure about the number of arguments to pass in the functions."
   ]
  },
  {
   "cell_type": "code",
   "execution_count": 4,
   "id": "b52d8d99-1711-4f6b-9752-2894030e8ae6",
   "metadata": {},
   "outputs": [],
   "source": [
    "def test1(*args) :\n",
    "    return args"
   ]
  },
  {
   "cell_type": "code",
   "execution_count": 5,
   "id": "03c7859c-38f5-4815-8403-90e48c7b78ca",
   "metadata": {},
   "outputs": [
    {
     "data": {
      "text/plain": [
       "(2, 3, 4, 'goni', 'joni', [4, 5, 6, 7])"
      ]
     },
     "execution_count": 5,
     "metadata": {},
     "output_type": "execute_result"
    }
   ],
   "source": [
    "test1(2,3,4,\"goni\" , \"joni\" , [4,5,6,7,])"
   ]
  },
  {
   "cell_type": "code",
   "execution_count": 6,
   "id": "cefa2bec-04d4-498d-9109-07ca6626b695",
   "metadata": {},
   "outputs": [],
   "source": [
    "def test2(**kwargs) : \n",
    "    return kwargs"
   ]
  },
  {
   "cell_type": "code",
   "execution_count": 11,
   "id": "197424c4-c663-4853-97a0-f9e810f96410",
   "metadata": {},
   "outputs": [
    {
     "data": {
      "text/plain": [
       "{'a': [1, 2, 3, 4], 'b': 'sudh', 'c': 23.45}"
      ]
     },
     "execution_count": 11,
     "metadata": {},
     "output_type": "execute_result"
    }
   ],
   "source": [
    "test2(a = [1,2,3,4] , b = \"sudh\" , c = 23.45 )"
   ]
  },
  {
   "cell_type": "markdown",
   "id": "b3a9d4e2-318f-444b-a74f-41054e13df25",
   "metadata": {},
   "source": [
    "Q3. What is an iterator in python? Name the method used to initialise the iterator object and the method\n",
    "used for iteration. Use these methods to print the first five elements of the given list [2, 4, 6, 8, 10, 12, 14,\n",
    "16, 18, 20]."
   ]
  },
  {
   "cell_type": "raw",
   "id": "03b682c5-2149-489a-a923-aadd2dfed02f",
   "metadata": {},
   "source": [
    "An iterator is an object that contains a countable number of values. The iter() method used to initialise the iterator object and the next() used for iteration."
   ]
  },
  {
   "cell_type": "code",
   "execution_count": 12,
   "id": "b73e37e4-8362-472a-a2bd-cd6e335da299",
   "metadata": {},
   "outputs": [],
   "source": [
    "l1 = [2,4,6,8,10,12,14,16,18,20]"
   ]
  },
  {
   "cell_type": "code",
   "execution_count": 13,
   "id": "fd0666d1-d9cc-45bf-b52b-e90c39140148",
   "metadata": {},
   "outputs": [],
   "source": [
    "l1 = iter(l1)"
   ]
  },
  {
   "cell_type": "code",
   "execution_count": 14,
   "id": "3e220e0b-4464-4725-b579-9dc84b9e58d0",
   "metadata": {},
   "outputs": [
    {
     "data": {
      "text/plain": [
       "2"
      ]
     },
     "execution_count": 14,
     "metadata": {},
     "output_type": "execute_result"
    }
   ],
   "source": [
    "next(l1)"
   ]
  },
  {
   "cell_type": "code",
   "execution_count": 15,
   "id": "e024604b-eb6e-406b-a256-25016422977d",
   "metadata": {},
   "outputs": [
    {
     "data": {
      "text/plain": [
       "4"
      ]
     },
     "execution_count": 15,
     "metadata": {},
     "output_type": "execute_result"
    }
   ],
   "source": [
    "next(l1)"
   ]
  },
  {
   "cell_type": "code",
   "execution_count": 16,
   "id": "7db1afaa-0798-4ee4-9389-00591c88a506",
   "metadata": {},
   "outputs": [
    {
     "data": {
      "text/plain": [
       "6"
      ]
     },
     "execution_count": 16,
     "metadata": {},
     "output_type": "execute_result"
    }
   ],
   "source": [
    "next(l1)"
   ]
  },
  {
   "cell_type": "code",
   "execution_count": 17,
   "id": "06c33548-2a8a-4673-80bb-7afad426b785",
   "metadata": {},
   "outputs": [
    {
     "data": {
      "text/plain": [
       "8"
      ]
     },
     "execution_count": 17,
     "metadata": {},
     "output_type": "execute_result"
    }
   ],
   "source": [
    "next(l1)"
   ]
  },
  {
   "cell_type": "code",
   "execution_count": 18,
   "id": "70c792f2-83da-4491-8400-7454300b5ffb",
   "metadata": {},
   "outputs": [
    {
     "data": {
      "text/plain": [
       "10"
      ]
     },
     "execution_count": 18,
     "metadata": {},
     "output_type": "execute_result"
    }
   ],
   "source": [
    "next(l1)"
   ]
  },
  {
   "cell_type": "markdown",
   "id": "86c1a34f-c7d4-4013-bb9b-831ac13026a6",
   "metadata": {},
   "source": [
    "Q4. What is a generator function in python? Why yield keyword is used? Give an example of a generator\n",
    "function."
   ]
  },
  {
   "cell_type": "raw",
   "id": "23855ade-1f41-444d-a58c-923f513029ce",
   "metadata": {},
   "source": [
    "If you want to return multiple values from a function, you can use generator functions with yield keywords.The yield expressions return multiple values. They return one value, then wait, save the local state, and resume again. "
   ]
  },
  {
   "cell_type": "code",
   "execution_count": 20,
   "id": "242d7be3-14da-4566-a3a7-c92b9653456c",
   "metadata": {},
   "outputs": [],
   "source": [
    "def count_test(n):\n",
    "    count = 1 \n",
    "    while count <= n :\n",
    "        yield count\n",
    "        count = count + 1"
   ]
  },
  {
   "cell_type": "code",
   "execution_count": 21,
   "id": "585e7d8b-826d-4811-baa0-e1a4ceb2866d",
   "metadata": {},
   "outputs": [],
   "source": [
    "c = count_test(6)"
   ]
  },
  {
   "cell_type": "code",
   "execution_count": 22,
   "id": "2a75749d-4ec2-42e0-9b52-b01c365e2edd",
   "metadata": {},
   "outputs": [
    {
     "name": "stdout",
     "output_type": "stream",
     "text": [
      "1\n",
      "2\n",
      "3\n",
      "4\n",
      "5\n",
      "6\n"
     ]
    }
   ],
   "source": [
    "for i in c:\n",
    "    print(i)"
   ]
  },
  {
   "cell_type": "markdown",
   "id": "5d41f79b-887e-4400-8b6f-265a8b14e7aa",
   "metadata": {},
   "source": [
    "Q5. Create a generator function for prime numbers less than 1000. Use the next() method to print the\n",
    "first 20 prime numbers."
   ]
  },
  {
   "cell_type": "code",
   "execution_count": null,
   "id": "fb0d9033-b8d0-46f1-8d4a-83e2e243529e",
   "metadata": {},
   "outputs": [],
   "source": []
  },
  {
   "cell_type": "markdown",
   "id": "4ac10464-6582-43e1-9c5b-ea83c8883221",
   "metadata": {},
   "source": [
    "Q6. Write a python program to print the first 10 Fibonacci numbers using a while loop."
   ]
  },
  {
   "cell_type": "code",
   "execution_count": 1,
   "id": "0bb75a7f-4204-497a-aec9-3a8060fdc443",
   "metadata": {},
   "outputs": [],
   "source": [
    "def test_fib1():\n",
    "    a,b = 0,1\n",
    "    while True:\n",
    "        yield a \n",
    "        a,b = b , a+b"
   ]
  },
  {
   "cell_type": "code",
   "execution_count": 3,
   "id": "92c622a3-1e71-404c-bb87-1819ac78be86",
   "metadata": {},
   "outputs": [],
   "source": [
    "fib =  test_fib1()"
   ]
  },
  {
   "cell_type": "code",
   "execution_count": 4,
   "id": "3b4a0eb4-589d-448a-b48b-b1825c3402fd",
   "metadata": {},
   "outputs": [
    {
     "name": "stdout",
     "output_type": "stream",
     "text": [
      "0\n",
      "1\n",
      "1\n",
      "2\n",
      "3\n",
      "5\n",
      "8\n",
      "13\n",
      "21\n",
      "34\n"
     ]
    }
   ],
   "source": [
    "for i in range(10):\n",
    "    print(next(fib))"
   ]
  },
  {
   "cell_type": "markdown",
   "id": "2629d1ba-8ea4-48c4-bb9f-47480b2d5b34",
   "metadata": {},
   "source": [
    "Q7. Write a List Comprehension to iterate through the given string: ‘pwskills’.\n",
    "Expected output: ['p', 'w', 's', 'k', 'i', 'l', 'l', 's']"
   ]
  },
  {
   "cell_type": "code",
   "execution_count": 5,
   "id": "557edb33-97cd-4f17-bbc0-83dc27500f3c",
   "metadata": {},
   "outputs": [],
   "source": [
    "a = 'pwskills'"
   ]
  },
  {
   "cell_type": "code",
   "execution_count": 7,
   "id": "3dbace8a-b7bc-471c-8fc3-605ad2f3b249",
   "metadata": {},
   "outputs": [
    {
     "data": {
      "text/plain": [
       "['p', 'w', 's', 'k', 'i', 'l', 'l', 's']"
      ]
     },
     "execution_count": 7,
     "metadata": {},
     "output_type": "execute_result"
    }
   ],
   "source": [
    "list(map(lambda x : str(x) , a))"
   ]
  },
  {
   "cell_type": "markdown",
   "id": "2660fb08-6900-46e6-b272-83f5b6e32965",
   "metadata": {},
   "source": [
    "Q8. Write a python program to check whether a given number is Palindrome or not using a while loop."
   ]
  },
  {
   "cell_type": "code",
   "execution_count": 8,
   "id": "23680c84-5151-4596-9790-16c58296a618",
   "metadata": {},
   "outputs": [],
   "source": [
    "l4 = [1,2,3,4,5,6,7,8,]"
   ]
  },
  {
   "cell_type": "code",
   "execution_count": 12,
   "id": "7a6aafcb-90ff-49d5-9cff-8ac9de37c959",
   "metadata": {},
   "outputs": [],
   "source": [
    "palindromes = list(filter(lambda x : x , l4))"
   ]
  },
  {
   "cell_type": "code",
   "execution_count": 13,
   "id": "acfdb46c-d95d-4a68-a3fd-f1192b4a042d",
   "metadata": {},
   "outputs": [
    {
     "name": "stdout",
     "output_type": "stream",
     "text": [
      "palindromes [1, 2, 3, 4, 5, 6, 7, 8]\n"
     ]
    }
   ],
   "source": [
    "print(\"palindromes\",palindromes)"
   ]
  },
  {
   "cell_type": "raw",
   "id": "4f219790-ebd6-41b2-968a-89c294f74567",
   "metadata": {},
   "source": [
    "Yes Given Number Is Palindromes"
   ]
  },
  {
   "cell_type": "markdown",
   "id": "3ff7b213-b7b6-4bc6-8962-84b7e40e8446",
   "metadata": {},
   "source": [
    "Q9. Write a code to print odd numbers from 1 to 100 using list comprehension.\n",
    "Note: Use a list comprehension to create a list from 1 to 100 and use another List comprehension to filter\n",
    "out odd numbers."
   ]
  },
  {
   "cell_type": "code",
   "execution_count": 16,
   "id": "e4fa991a-021a-40e5-9b9a-04f3cc77eb82",
   "metadata": {},
   "outputs": [],
   "source": [
    "l = list(range(101)) "
   ]
  },
  {
   "cell_type": "code",
   "execution_count": 17,
   "id": "a5b1e0ea-316c-4ac3-8b0c-c1fcad372121",
   "metadata": {},
   "outputs": [
    {
     "name": "stdout",
     "output_type": "stream",
     "text": [
      "[0, 1, 2, 3, 4, 5, 6, 7, 8, 9, 10, 11, 12, 13, 14, 15, 16, 17, 18, 19, 20, 21, 22, 23, 24, 25, 26, 27, 28, 29, 30, 31, 32, 33, 34, 35, 36, 37, 38, 39, 40, 41, 42, 43, 44, 45, 46, 47, 48, 49, 50, 51, 52, 53, 54, 55, 56, 57, 58, 59, 60, 61, 62, 63, 64, 65, 66, 67, 68, 69, 70, 71, 72, 73, 74, 75, 76, 77, 78, 79, 80, 81, 82, 83, 84, 85, 86, 87, 88, 89, 90, 91, 92, 93, 94, 95, 96, 97, 98, 99, 100]\n"
     ]
    }
   ],
   "source": [
    "print(l)"
   ]
  },
  {
   "cell_type": "code",
   "execution_count": 19,
   "id": "02308b77-80a8-44fa-9cdd-322de3732baf",
   "metadata": {},
   "outputs": [
    {
     "data": {
      "text/plain": [
       "[1,\n",
       " 3,\n",
       " 5,\n",
       " 7,\n",
       " 9,\n",
       " 11,\n",
       " 13,\n",
       " 15,\n",
       " 17,\n",
       " 19,\n",
       " 21,\n",
       " 23,\n",
       " 25,\n",
       " 27,\n",
       " 29,\n",
       " 31,\n",
       " 33,\n",
       " 35,\n",
       " 37,\n",
       " 39,\n",
       " 41,\n",
       " 43,\n",
       " 45,\n",
       " 47,\n",
       " 49,\n",
       " 51,\n",
       " 53,\n",
       " 55,\n",
       " 57,\n",
       " 59,\n",
       " 61,\n",
       " 63,\n",
       " 65,\n",
       " 67,\n",
       " 69,\n",
       " 71,\n",
       " 73,\n",
       " 75,\n",
       " 77,\n",
       " 79,\n",
       " 81,\n",
       " 83,\n",
       " 85,\n",
       " 87,\n",
       " 89,\n",
       " 91,\n",
       " 93,\n",
       " 95,\n",
       " 97,\n",
       " 99]"
      ]
     },
     "execution_count": 19,
     "metadata": {},
     "output_type": "execute_result"
    }
   ],
   "source": [
    "list(filter(lambda x : x % 2 != 0 , l))"
   ]
  },
  {
   "cell_type": "code",
   "execution_count": null,
   "id": "2ec464fd-415b-43e6-8631-3667e2d7b04f",
   "metadata": {},
   "outputs": [],
   "source": []
  }
 ],
 "metadata": {
  "kernelspec": {
   "display_name": "Python 3 (ipykernel)",
   "language": "python",
   "name": "python3"
  },
  "language_info": {
   "codemirror_mode": {
    "name": "ipython",
    "version": 3
   },
   "file_extension": ".py",
   "mimetype": "text/x-python",
   "name": "python",
   "nbconvert_exporter": "python",
   "pygments_lexer": "ipython3",
   "version": "3.10.8"
  }
 },
 "nbformat": 4,
 "nbformat_minor": 5
}
